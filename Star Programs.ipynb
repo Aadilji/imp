{
 "cells": [
  {
   "cell_type": "markdown",
   "id": "dd2df0dd",
   "metadata": {},
   "source": [
    "# Star Progrmas"
   ]
  },
  {
   "cell_type": "raw",
   "id": "70dcdf6b",
   "metadata": {},
   "source": [
    "There Are 2 Types here,\n",
    "One is Increasing Triangle and\n",
    "Second One is Decreasing Triangle \n",
    "\n",
    "By Joining These Triangles, we can solve any star problems.."
   ]
  },
  {
   "cell_type": "raw",
   "id": "e2473388",
   "metadata": {},
   "source": [
    "when we print any thing in python we do it row-by-row...\n",
    "printing starts from left side\n",
    "The blank we see in pattern is nothing but spaces,that are being printed..."
   ]
  },
  {
   "cell_type": "raw",
   "id": "8a61ce7f",
   "metadata": {},
   "source": [
    "To print any star we write:-\n",
    "    print('*')\n",
    "    \n",
    "To Print n star we write:- \n",
    "    n = 5\n",
    "    for j in range (n):\n",
    "        print('*') "
   ]
  },
  {
   "cell_type": "code",
   "execution_count": 1,
   "id": "f0e71358",
   "metadata": {},
   "outputs": [
    {
     "name": "stdout",
     "output_type": "stream",
     "text": [
      "*\n"
     ]
    }
   ],
   "source": [
    "print(\"*\") "
   ]
  },
  {
   "cell_type": "code",
   "execution_count": 2,
   "id": "6d83efad",
   "metadata": {},
   "outputs": [
    {
     "name": "stdout",
     "output_type": "stream",
     "text": [
      "*****\n"
     ]
    }
   ],
   "source": [
    "n = 5\n",
    "print('*'*n) "
   ]
  },
  {
   "cell_type": "code",
   "execution_count": 3,
   "id": "0b062312",
   "metadata": {},
   "outputs": [
    {
     "name": "stdout",
     "output_type": "stream",
     "text": [
      "*\n",
      "*\n",
      "*\n",
      "*\n",
      "*\n"
     ]
    }
   ],
   "source": [
    "n = 5\n",
    "\n",
    "for j in range (n):\n",
    "    print('*') "
   ]
  },
  {
   "cell_type": "code",
   "execution_count": 4,
   "id": "6d668813",
   "metadata": {},
   "outputs": [
    {
     "name": "stdout",
     "output_type": "stream",
     "text": [
      "*****"
     ]
    }
   ],
   "source": [
    "# for printing the * in a single line...\n",
    "\n",
    "n = 5\n",
    "\n",
    "for j in range (n):\n",
    "    print('*', end='')  "
   ]
  },
  {
   "cell_type": "code",
   "execution_count": 5,
   "id": "f6ae8469",
   "metadata": {},
   "outputs": [
    {
     "name": "stdout",
     "output_type": "stream",
     "text": [
      "* * * * * "
     ]
    }
   ],
   "source": [
    "n = 5\n",
    "\n",
    "for j in range (n):\n",
    "    print('*', end=' ')  "
   ]
  },
  {
   "cell_type": "raw",
   "id": "87a5e379",
   "metadata": {},
   "source": [
    "* * * * *\n",
    "* * * * *\n",
    "* * * * *\n",
    "* * * * *\n",
    "* * * * *"
   ]
  },
  {
   "cell_type": "code",
   "execution_count": 6,
   "id": "39f9a815",
   "metadata": {},
   "outputs": [
    {
     "name": "stdout",
     "output_type": "stream",
     "text": [
      "* * * * * * * * * * * * * * * * * * * * * * * * * "
     ]
    }
   ],
   "source": [
    "n = 5\n",
    "\n",
    "for i in range(n):\n",
    "    for j in range (n):\n",
    "        print('*', end=' ')  "
   ]
  },
  {
   "cell_type": "code",
   "execution_count": 7,
   "id": "63a1a842",
   "metadata": {},
   "outputs": [
    {
     "name": "stdout",
     "output_type": "stream",
     "text": [
      "* * * * * \n",
      "* * * * * \n",
      "* * * * * \n",
      "* * * * * \n",
      "* * * * * \n"
     ]
    }
   ],
   "source": [
    "# after ending the j-loop, we use print() to change the line\n",
    "\n",
    "n = 5\n",
    "\n",
    "for i in range(n):\n",
    "    for j in range (n):\n",
    "        print('*', end=' ')\n",
    "    print() "
   ]
  },
  {
   "cell_type": "raw",
   "id": "948ab341",
   "metadata": {},
   "source": [
    "# how the loops are working \n",
    "\n",
    "row -> 0\n",
    "column -> 0,1,2,3,4\n",
    "\n",
    "row -> 1\n",
    "column -> 0,1,2,3,4   etc.."
   ]
  },
  {
   "cell_type": "code",
   "execution_count": 8,
   "id": "19602ddf",
   "metadata": {},
   "outputs": [
    {
     "name": "stdout",
     "output_type": "stream",
     "text": [
      "# # # # # \n",
      "# # # # # \n",
      "# # # # # \n",
      "# # # # # \n",
      "# # # # # \n"
     ]
    }
   ],
   "source": [
    "n = 5\n",
    "\n",
    "for i in range(n):\n",
    "    for j in range (n):\n",
    "        print('#', end=' ')\n",
    "    print() "
   ]
  },
  {
   "cell_type": "code",
   "execution_count": 9,
   "id": "b0fca547",
   "metadata": {},
   "outputs": [
    {
     "name": "stdout",
     "output_type": "stream",
     "text": [
      "$ $ $ $ $ \n",
      "$ $ $ $ $ \n",
      "$ $ $ $ $ \n",
      "$ $ $ $ $ \n",
      "$ $ $ $ $ \n"
     ]
    }
   ],
   "source": [
    "n = 5\n",
    "\n",
    "for i in range(n):\n",
    "    for j in range (n):\n",
    "        print('$', end=' ')\n",
    "    print() "
   ]
  },
  {
   "cell_type": "markdown",
   "id": "f86c6a2c",
   "metadata": {},
   "source": [
    "1. Increasing Triangle ..."
   ]
  },
  {
   "cell_type": "code",
   "execution_count": 10,
   "id": "18b23cc8",
   "metadata": {},
   "outputs": [
    {
     "name": "stdout",
     "output_type": "stream",
     "text": [
      "$ \n",
      "$ $ \n",
      "$ $ $ \n",
      "$ $ $ $ \n",
      "$ $ $ $ $ \n"
     ]
    }
   ],
   "source": [
    "# j = row no. + 1\n",
    "\n",
    "n = 5\n",
    "\n",
    "for i in range(n):\n",
    "    for j in range (i + 1):\n",
    "        print('$', end=' ')\n",
    "    print() "
   ]
  },
  {
   "cell_type": "markdown",
   "id": "0fb4fda2",
   "metadata": {},
   "source": [
    "2. Decreasing Traingle ...`"
   ]
  },
  {
   "cell_type": "code",
   "execution_count": 11,
   "id": "552af35d",
   "metadata": {},
   "outputs": [
    {
     "name": "stdout",
     "output_type": "stream",
     "text": [
      "$ $ $ $ $ \n",
      "$ $ $ $ \n",
      "$ $ $ \n",
      "$ $ \n",
      "$ \n"
     ]
    }
   ],
   "source": [
    "# j = n - row no.\n",
    "\n",
    "n = 5\n",
    "\n",
    "for i in range(n):\n",
    "    for j in range (n-i):\n",
    "        print('$', end=' ')\n",
    "    print() "
   ]
  },
  {
   "cell_type": "code",
   "execution_count": 12,
   "id": "c146bd41",
   "metadata": {},
   "outputs": [
    {
     "name": "stdout",
     "output_type": "stream",
     "text": [
      "$ $ $ $ $ \n",
      "$ $ $ $ \n",
      "$ $ $ \n",
      "$ $ \n",
      "$ \n"
     ]
    }
   ],
   "source": [
    "# j = range(starting of range, ending of range)\n",
    "\n",
    "# (0,5)\n",
    "# (1,5)\n",
    "# (2,5)\n",
    "# (3,5) ........ \n",
    "\n",
    "# ------------------------====================================---------------------=================\n",
    "\n",
    "n = 5\n",
    "\n",
    "for i in range(n):\n",
    "    for j in range (i,n):\n",
    "        print('$', end=' ')\n",
    "    print() \n",
    "    \n",
    "    \n"
   ]
  },
  {
   "cell_type": "markdown",
   "id": "d19d3aaf",
   "metadata": {},
   "source": [
    "Combination of Triangle:- "
   ]
  },
  {
   "cell_type": "markdown",
   "id": "0d22c762",
   "metadata": {},
   "source": [
    "1. Decreasing Space \n",
    "2. Increasing Star "
   ]
  },
  {
   "cell_type": "code",
   "execution_count": 13,
   "id": "46fbd886",
   "metadata": {},
   "outputs": [
    {
     "name": "stdout",
     "output_type": "stream",
     "text": [
      "          * \n",
      "        * * \n",
      "      * * * \n",
      "    * * * * \n",
      "  * * * * * \n"
     ]
    }
   ],
   "source": [
    "n = 5\n",
    "for i in range(n):\n",
    "    for j in range (n-i):\n",
    "        print(' ', end=' ')\n",
    "        \n",
    "    for j in range (i + 1):\n",
    "        print('*', end=' ')\n",
    "    \n",
    "    print() "
   ]
  },
  {
   "cell_type": "markdown",
   "id": "f7bd338a",
   "metadata": {},
   "source": [
    "1. Increasing Space\n",
    "2. Decreasing Star"
   ]
  },
  {
   "cell_type": "code",
   "execution_count": 14,
   "id": "8d7350dc",
   "metadata": {},
   "outputs": [
    {
     "name": "stdout",
     "output_type": "stream",
     "text": [
      "*           \n",
      "* *         \n",
      "* * *       \n",
      "* * * *     \n",
      "* * * * *   \n"
     ]
    }
   ],
   "source": [
    "n = 5\n",
    "for i in range(n):\n",
    "    for j in range (i + 1):\n",
    "        print('*', end=' ')\n",
    "        \n",
    "    for j in range (n-i):\n",
    "        print(' ', end=' ')\n",
    "    \n",
    "    print() "
   ]
  },
  {
   "cell_type": "markdown",
   "id": "131fa810",
   "metadata": {},
   "source": [
    "Hill Pattern "
   ]
  },
  {
   "cell_type": "markdown",
   "id": "75dc543e",
   "metadata": {},
   "source": [
    "1. Decreasing Space \n",
    "2. Increasing Star \n",
    "3. Increasing Star  "
   ]
  },
  {
   "cell_type": "code",
   "execution_count": 15,
   "id": "af8888ab",
   "metadata": {},
   "outputs": [
    {
     "name": "stdout",
     "output_type": "stream",
     "text": [
      "          * * \n",
      "        * * * * \n",
      "      * * * * * * \n",
      "    * * * * * * * * \n",
      "  * * * * * * * * * * \n"
     ]
    }
   ],
   "source": [
    "n = 5\n",
    "for i in range(n):\n",
    "    for j in range (n-i):\n",
    "        print(' ', end=' ')\n",
    "    for j in range (i + 1):\n",
    "        print('*', end=' ')\n",
    "    for j in range (i + 1):\n",
    "        print('*', end=' ')\n",
    "    print() "
   ]
  },
  {
   "cell_type": "code",
   "execution_count": 16,
   "id": "84903494",
   "metadata": {},
   "outputs": [
    {
     "name": "stdout",
     "output_type": "stream",
     "text": [
      "          * \n",
      "        * * * \n",
      "      * * * * * \n",
      "    * * * * * * * \n",
      "  * * * * * * * * * \n"
     ]
    }
   ],
   "source": [
    "n = 5\n",
    "for i in range(n):\n",
    "    for j in range (n-i):\n",
    "        print(' ', end=' ')\n",
    "    for j in range (i):\n",
    "        print('*', end=' ')\n",
    "    for j in range (i + 1):\n",
    "        print('*', end=' ')\n",
    "    print() "
   ]
  },
  {
   "cell_type": "markdown",
   "id": "41e31c41",
   "metadata": {},
   "source": [
    "Reverse Mountain Pattern "
   ]
  },
  {
   "cell_type": "markdown",
   "id": "935c93e2",
   "metadata": {},
   "source": [
    "1. Increasing Space\n",
    "2. Decreasing Star\n",
    "3. Decreasing Star "
   ]
  },
  {
   "cell_type": "code",
   "execution_count": 17,
   "id": "ca07199c",
   "metadata": {},
   "outputs": [
    {
     "name": "stdout",
     "output_type": "stream",
     "text": [
      "  * * * * * * * * * \n",
      "    * * * * * * * \n",
      "      * * * * * \n",
      "        * * * \n",
      "          * \n"
     ]
    }
   ],
   "source": [
    "n = 5\n",
    "for i in range(n):\n",
    "    for j in range (i + 1):\n",
    "        print(' ', end=' ')\n",
    "    \n",
    "    for j in range ((n-1)-i): \n",
    "        print('*', end=' ')\n",
    "        \n",
    "    for j in range (n-i):\n",
    "        print('*', end=' ') \n",
    "\n",
    "    print() "
   ]
  },
  {
   "cell_type": "code",
   "execution_count": 18,
   "id": "de3727a0",
   "metadata": {},
   "outputs": [
    {
     "name": "stdout",
     "output_type": "stream",
     "text": [
      " *********\n",
      "  *******\n",
      "   *****\n",
      "    ***\n",
      "     *\n"
     ]
    }
   ],
   "source": [
    "n = 5\n",
    "for i in range(n):\n",
    "    for j in range(i + 1):\n",
    "        print(\" \",end = '')\n",
    "        \n",
    "    for j in range(i,n-1):\n",
    "        print(\"*\",end = '')\n",
    "        \n",
    "    for j in range(i,n):\n",
    "        print(\"*\",end = '') \n",
    "    print() "
   ]
  },
  {
   "cell_type": "markdown",
   "id": "63ca5404",
   "metadata": {},
   "source": [
    "Diamond Pattern "
   ]
  },
  {
   "cell_type": "markdown",
   "id": "bc253023",
   "metadata": {},
   "source": [
    "Upper triangle + Lower Triangle "
   ]
  },
  {
   "cell_type": "code",
   "execution_count": 19,
   "id": "d4895a34",
   "metadata": {},
   "outputs": [
    {
     "name": "stdout",
     "output_type": "stream",
     "text": [
      "          * \n",
      "        * * * \n",
      "      * * * * * \n",
      "    * * * * * * * \n",
      "  * * * * * * * * * \n",
      "  * * * * * * * * * \n",
      "    * * * * * * * \n",
      "      * * * * * \n",
      "        * * * \n",
      "          * \n"
     ]
    }
   ],
   "source": [
    "n = 5\n",
    "for i in range(n):\n",
    "    for j in range (n-i):\n",
    "        print(' ', end=' ')\n",
    "    for j in range (i):\n",
    "        print('*', end=' ')\n",
    "    for j in range (i + 1):\n",
    "        print('*', end=' ')\n",
    "    print()\n",
    "    \n",
    "for i in range(n):\n",
    "    for j in range (i + 1):\n",
    "        print(' ', end=' ')\n",
    "    \n",
    "    for j in range ((n-1)-i): \n",
    "        print('*', end=' ')\n",
    "        \n",
    "    for j in range (n-i):\n",
    "        print('*', end=' ') \n",
    "        \n",
    "    print() \n"
   ]
  },
  {
   "cell_type": "code",
   "execution_count": 20,
   "id": "dc819442",
   "metadata": {},
   "outputs": [
    {
     "name": "stdout",
     "output_type": "stream",
     "text": [
      "          * \n",
      "        * * * \n",
      "      * * * * * \n",
      "    * * * * * * * \n",
      "  * * * * * * * * * \n",
      "    * * * * * * * \n",
      "      * * * * * \n",
      "        * * * \n",
      "          * \n"
     ]
    }
   ],
   "source": [
    "n = 5\n",
    "for i in range(n - 1):                             # minus 1 row\n",
    "    for j in range (n-i):\n",
    "        print(' ', end=' ')\n",
    "    for j in range (i):\n",
    "        print('*', end=' ')\n",
    "    for j in range (i + 1):\n",
    "        print('*', end=' ')\n",
    "    print()\n",
    "    \n",
    "for i in range(n):\n",
    "    for j in range (i + 1):\n",
    "        print(' ', end=' ')\n",
    "    \n",
    "    for j in range ((n-1)-i): \n",
    "        print('*', end=' ')\n",
    "        \n",
    "    for j in range (n-i):\n",
    "        print('*', end=' ') \n",
    "        \n",
    "    print() "
   ]
  }
 ],
 "metadata": {
  "kernelspec": {
   "display_name": "Python 3",
   "language": "python",
   "name": "python3"
  },
  "language_info": {
   "codemirror_mode": {
    "name": "ipython",
    "version": 3
   },
   "file_extension": ".py",
   "mimetype": "text/x-python",
   "name": "python",
   "nbconvert_exporter": "python",
   "pygments_lexer": "ipython3",
   "version": "3.8.8"
  }
 },
 "nbformat": 4,
 "nbformat_minor": 5
}
