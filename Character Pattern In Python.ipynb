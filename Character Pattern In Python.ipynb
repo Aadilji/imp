{
 "cells": [
  {
   "cell_type": "markdown",
   "id": "42dcfe90",
   "metadata": {},
   "source": [
    "# Character Pattern In Python"
   ]
  },
  {
   "cell_type": "raw",
   "id": "ff09bc04",
   "metadata": {},
   "source": [
    "char.  code\n",
    "\n",
    "A-Z =  [65-90]\n",
    "a-z =  [97-122]\n",
    "0-9 =  [48-57]"
   ]
  },
  {
   "cell_type": "code",
   "execution_count": 1,
   "id": "35209994",
   "metadata": {},
   "outputs": [
    {
     "name": "stdout",
     "output_type": "stream",
     "text": [
      "A \n",
      "A A \n",
      "A A A \n",
      "A A A A \n",
      "A A A A A \n"
     ]
    }
   ],
   "source": [
    "n = 5\n",
    "\n",
    "for i in range(n):\n",
    "    for j in range (i + 1):\n",
    "        print('A', end=' ')\n",
    "    print()  "
   ]
  },
  {
   "cell_type": "code",
   "execution_count": 2,
   "id": "3df55c95",
   "metadata": {},
   "outputs": [
    {
     "name": "stdout",
     "output_type": "stream",
     "text": [
      "A \n",
      "B B \n",
      "C C C \n",
      "D D D D \n",
      "E E E E E \n"
     ]
    }
   ],
   "source": [
    "# Incrementing Pattern triangle\n",
    "\n",
    "n = 5\n",
    "p=65\n",
    "for i in range(n): \n",
    "   for j in range(i+1): \n",
    "      print(chr(p), end=' ')\n",
    "   p+=1\n",
    "   print() "
   ]
  },
  {
   "cell_type": "code",
   "execution_count": 3,
   "id": "6ac4e551",
   "metadata": {},
   "outputs": [
    {
     "name": "stdout",
     "output_type": "stream",
     "text": [
      "p \n",
      "p p \n",
      "p p p \n",
      "p p p p \n",
      "p p p p p \n"
     ]
    }
   ],
   "source": [
    "n = 5\n",
    "p=65\n",
    "for i in range(n): \n",
    "   for j in range(i+1): \n",
    "      print('p', end=' ')\n",
    "   p+=1\n",
    "   print()    "
   ]
  },
  {
   "cell_type": "code",
   "execution_count": 4,
   "id": "cbd80541",
   "metadata": {},
   "outputs": [
    {
     "name": "stdout",
     "output_type": "stream",
     "text": [
      "E \n",
      "D D \n",
      "C C C \n",
      "B B B B \n",
      "A A A A A \n"
     ]
    }
   ],
   "source": [
    "n = 5\n",
    "p=69\n",
    "for i in range(n): \n",
    "   for j in range(i+1): \n",
    "         print(chr(p), end=' ')\n",
    "   p-=1\n",
    "   print()   "
   ]
  },
  {
   "cell_type": "code",
   "execution_count": 5,
   "id": "a5f87c4b",
   "metadata": {},
   "outputs": [
    {
     "name": "stdout",
     "output_type": "stream",
     "text": [
      "A \n",
      "C C \n",
      "E E E \n",
      "G G G G \n",
      "I I I I I \n"
     ]
    }
   ],
   "source": [
    "n = 5\n",
    "p=65\n",
    "for i in range(n): \n",
    "   for j in range(i+1): \n",
    "         print(chr(p), end=' ')\n",
    "   p+=2\n",
    "   print()  "
   ]
  },
  {
   "cell_type": "code",
   "execution_count": 6,
   "id": "eed10cfa",
   "metadata": {},
   "outputs": [
    {
     "name": "stdout",
     "output_type": "stream",
     "text": [
      "A \n",
      "B B \n",
      "A A A \n",
      "B B B B \n",
      "A A A A A \n"
     ]
    }
   ],
   "source": [
    "n = 5\n",
    "for i in range(n): \n",
    "   for j in range(i+1):\n",
    "      if(i%2==0):\n",
    "         print(\"A\", end=' ')\n",
    "      else:\n",
    "         print(\"B\", end=' ')\n",
    "   print() "
   ]
  },
  {
   "cell_type": "code",
   "execution_count": 7,
   "id": "42887755",
   "metadata": {},
   "outputs": [
    {
     "name": "stdout",
     "output_type": "stream",
     "text": [
      "Z Z Z Z Z \n",
      "  0 0 0 0 \n",
      "    Z Z Z \n",
      "      0 0 \n",
      "        Z \n"
     ]
    }
   ],
   "source": [
    "n = 5 \n",
    "for i in range(n): \n",
    "   for j in range(i): \n",
    "      print(' ', end=' ') \n",
    "   for j in range(i, n):\n",
    "      if(i%2==0):\n",
    "         print(\"Z\", end=' ')\n",
    "      else:\n",
    "         print(\"0\", end=' ')\n",
    "   print() "
   ]
  },
  {
   "cell_type": "code",
   "execution_count": 8,
   "id": "a60d2a44",
   "metadata": {},
   "outputs": [
    {
     "name": "stdout",
     "output_type": "stream",
     "text": [
      "          A \n",
      "        B B B \n",
      "      C C C C C \n",
      "    D D D D D D D \n",
      "  E E E E E E E E E \n",
      "    D D D D D D D \n",
      "      C C C C C \n",
      "        B B B \n",
      "          A \n"
     ]
    }
   ],
   "source": [
    "n=5\n",
    "p=65\n",
    "for i in range (n-1):\n",
    "  for j in range (i,n):\n",
    "     print (' ', end = ' ')\n",
    "  for j in range (i):\n",
    "     print (chr(p), end = ' ') \n",
    "  for j in range (i+1):\n",
    "     print (chr(p), end = ' ') \n",
    "  p+=1\n",
    "  print() \n",
    "for i in range (n):\n",
    "   for j in range (i+1):\n",
    "      print (' ', end = ' ')\n",
    "   for j in range (i,n-1):\n",
    "      print (chr(p), end = ' ') \n",
    "   for j in range (i,n):\n",
    "      print (chr(p), end = ' ') \n",
    "   p-=1\n",
    "   print() "
   ]
  },
  {
   "cell_type": "code",
   "execution_count": 9,
   "id": "2b5069a9",
   "metadata": {},
   "outputs": [
    {
     "name": "stdout",
     "output_type": "stream",
     "text": [
      "A \n",
      "A B \n",
      "A B C \n",
      "A B C D \n",
      "A B C D E \n"
     ]
    }
   ],
   "source": [
    "n = 5\n",
    "for i in range(n):\n",
    "   p=65\n",
    "   for j in range(i+1): \n",
    "      print(chr(p), end=' ')\n",
    "      p+=1\n",
    "   print() "
   ]
  },
  {
   "cell_type": "code",
   "execution_count": 10,
   "id": "42b8006e",
   "metadata": {},
   "outputs": [
    {
     "name": "stdout",
     "output_type": "stream",
     "text": [
      "A B C D E \n",
      "  A B C D \n",
      "    A B C \n",
      "      A B \n",
      "        A \n"
     ]
    }
   ],
   "source": [
    "n = 5 \n",
    "for i in range(n): \n",
    "   p=65\n",
    "   for j in range(i): \n",
    "      print(' ', end=' ') \n",
    "   for k in range(i, n):\n",
    "      print(chr(p), end=' ')\n",
    "      p+=1\n",
    "   print() "
   ]
  },
  {
   "cell_type": "code",
   "execution_count": 11,
   "id": "ca4548b5",
   "metadata": {},
   "outputs": [
    {
     "name": "stdout",
     "output_type": "stream",
     "text": [
      "          A \n",
      "        A B C \n",
      "      A B C D E \n",
      "    A B C D E F G \n",
      "  A B C D E F G H I \n"
     ]
    }
   ],
   "source": [
    "n = 5 \n",
    "for i in range(n): \n",
    "   p=65\n",
    "   for j in range(i, n): \n",
    "      print(' ', end=' ') \n",
    "   for j in range(i+1):\n",
    "      print(chr(p), end=' ')\n",
    "      p+=1\n",
    "   for j in range(i):\n",
    "      print(chr(p), end=' ')\n",
    "      p+=1\n",
    "   print() "
   ]
  },
  {
   "cell_type": "code",
   "execution_count": 12,
   "id": "69556ef8",
   "metadata": {},
   "outputs": [
    {
     "name": "stdout",
     "output_type": "stream",
     "text": [
      "E \n",
      "E D \n",
      "E D C \n",
      "E D C B \n",
      "E D C B A \n"
     ]
    }
   ],
   "source": [
    "n = 5\n",
    "for i in range(n):\n",
    "   p=69\n",
    "   for j in range(i+1): \n",
    "      print(chr(p), end=' ')\n",
    "      p-=1\n",
    "   print() "
   ]
  },
  {
   "cell_type": "code",
   "execution_count": 13,
   "id": "977522f9",
   "metadata": {},
   "outputs": [
    {
     "name": "stdout",
     "output_type": "stream",
     "text": [
      "E D C B A \n",
      "  D C B A \n",
      "    C B A \n",
      "      B A \n",
      "        A \n"
     ]
    }
   ],
   "source": [
    "n= 5 \n",
    "k=69\n",
    "for i in range(n): \n",
    "   p=k\n",
    "   for j in range(i): \n",
    "      print(' ', end=' ') \n",
    "   for j in range(i, n):\n",
    "      print(chr(p), end=' ')\n",
    "      p-=1\n",
    "   print()\n",
    "   k-=1   "
   ]
  },
  {
   "cell_type": "code",
   "execution_count": 14,
   "id": "fcfc2c4a",
   "metadata": {},
   "outputs": [
    {
     "name": "stdout",
     "output_type": "stream",
     "text": [
      "          A \n",
      "        A B A \n",
      "      A B C B A \n",
      "    A B C D C B A \n",
      "  A B C D E D C B A \n"
     ]
    }
   ],
   "source": [
    "n = 5 \n",
    "for i in range(n): \n",
    "   p=65\n",
    "   for j in range(i, n): \n",
    "      print(' ', end=' ') \n",
    "   for j in range(i):\n",
    "      print(chr(p), end=' ')\n",
    "      p+=1\n",
    "   for j in range(i+1):\n",
    "      print(chr(p), end=' ')\n",
    "      p-=1\n",
    "   print() "
   ]
  },
  {
   "cell_type": "code",
   "execution_count": 15,
   "id": "ddc18c03",
   "metadata": {},
   "outputs": [
    {
     "name": "stdout",
     "output_type": "stream",
     "text": [
      "C \n",
      "O O \n",
      "D D D \n",
      "E E E E \n",
      "R R R R R \n"
     ]
    }
   ],
   "source": [
    "s = \"CODER\" \n",
    "n = len(s)\n",
    "p = 0\n",
    "for i in range(n): \n",
    "   for j in range(i+1): \n",
    "      print(s[p], end = ' ')\n",
    "   p+=1\n",
    "   print() "
   ]
  },
  {
   "cell_type": "code",
   "execution_count": 16,
   "id": "6569210b",
   "metadata": {},
   "outputs": [
    {
     "name": "stdout",
     "output_type": "stream",
     "text": [
      "C \n",
      "O O \n",
      "D D D \n",
      "E E E E \n",
      "R R R R R \n"
     ]
    }
   ],
   "source": [
    "s = \"CODER\" \n",
    "n = len(s)\n",
    "p = 0\n",
    "for i in range(n): \n",
    "   for j in range(i+1): \n",
    "      print(s[p], end = ' ')\n",
    "   p+=1\n",
    "   print() "
   ]
  },
  {
   "cell_type": "code",
   "execution_count": 17,
   "id": "9d49c523",
   "metadata": {},
   "outputs": [
    {
     "name": "stdout",
     "output_type": "stream",
     "text": [
      "R \n",
      "E E \n",
      "D D D \n",
      "O O O O \n",
      "C C C C C \n"
     ]
    }
   ],
   "source": [
    "s = \"CODER\" \n",
    "n= len(s)\n",
    "p= n-1\n",
    "for i in range(n): \n",
    "   for j in range(i+1): \n",
    "      print(s[p], end=' ')\n",
    "   p-=1\n",
    "   print() "
   ]
  },
  {
   "cell_type": "code",
   "execution_count": 18,
   "id": "b1f721c7",
   "metadata": {},
   "outputs": [
    {
     "name": "stdout",
     "output_type": "stream",
     "text": [
      "C \n",
      "C O \n",
      "C O D \n",
      "C O D E \n",
      "C O D E R \n"
     ]
    }
   ],
   "source": [
    "s = \"CODER\" \n",
    "n= len(s)\n",
    "for i in range(n):\n",
    "   p=0\n",
    "   for j in range(i+1): \n",
    "      print(s[p], end=' ')\n",
    "      p+=1\n",
    "   print() "
   ]
  },
  {
   "cell_type": "code",
   "execution_count": 19,
   "id": "7222e89f",
   "metadata": {},
   "outputs": [
    {
     "name": "stdout",
     "output_type": "stream",
     "text": [
      "R \n",
      "R E \n",
      "R E D \n",
      "R E D O \n",
      "R E D O C \n"
     ]
    }
   ],
   "source": [
    "s = \"CODER\" \n",
    "n= len(s)\n",
    "for i in range(n):\n",
    "   p=n-1\n",
    "   for j in range(i+1): \n",
    "      print(s[p], end=' ')\n",
    "      p-=1\n",
    "   print() "
   ]
  },
  {
   "cell_type": "code",
   "execution_count": 20,
   "id": "17a1f918",
   "metadata": {},
   "outputs": [
    {
     "name": "stdout",
     "output_type": "stream",
     "text": [
      "R E D O C \n",
      "  E D O C \n",
      "    D O C \n",
      "      O C \n",
      "        C \n"
     ]
    }
   ],
   "source": [
    "s = \"CODER\" \n",
    "n = len(s)\n",
    "k = n-1\n",
    "for i in range(n): \n",
    "   p=k\n",
    "   for j in range(i): \n",
    "      print(' ', end=' ') \n",
    "   for j in range(i, n):\n",
    "      print(s[p], end=' ')\n",
    "      p-=1\n",
    "   print()\n",
    "   k-=1 "
   ]
  }
 ],
 "metadata": {
  "kernelspec": {
   "display_name": "Python 3",
   "language": "python",
   "name": "python3"
  },
  "language_info": {
   "codemirror_mode": {
    "name": "ipython",
    "version": 3
   },
   "file_extension": ".py",
   "mimetype": "text/x-python",
   "name": "python",
   "nbconvert_exporter": "python",
   "pygments_lexer": "ipython3",
   "version": "3.8.8"
  }
 },
 "nbformat": 4,
 "nbformat_minor": 5
}
