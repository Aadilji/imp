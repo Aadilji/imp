{
 "cells": [
  {
   "cell_type": "code",
   "execution_count": null,
   "id": "e38a4936",
   "metadata": {},
   "outputs": [],
   "source": [
    "'''Find the sum of individual number from a given number and output should be in single digit\n",
    "Find the sum of the given long number in single digit ,\n",
    "Eg if the number is :1236.\n",
    "Then 1+2+3+6 = 12\n",
    "1+2 =3\n",
    "'''"
   ]
  },
  {
   "cell_type": "code",
   "execution_count": 7,
   "id": "666e25fb",
   "metadata": {},
   "outputs": [
    {
     "name": "stdout",
     "output_type": "stream",
     "text": [
      "4\n"
     ]
    }
   ],
   "source": [
    "def digSum(n):\n",
    " \n",
    "    if (n == 0):\n",
    "        return 0\n",
    "    if (n % 9 == 0):\n",
    "        return 9\n",
    "    else:\n",
    "       return (n % 9)\n",
    " \n",
    "# Driver program to test the above function\n",
    "n = 4\n",
    "print(digSum(n)) "
   ]
  },
  {
   "cell_type": "code",
   "execution_count": 2,
   "id": "5e1f3a61",
   "metadata": {},
   "outputs": [
    {
     "data": {
      "text/plain": [
       "26"
      ]
     },
     "execution_count": 2,
     "metadata": {},
     "output_type": "execute_result"
    }
   ],
   "source": [
    "4+5+8+9"
   ]
  },
  {
   "cell_type": "code",
   "execution_count": null,
   "id": "9cceb158",
   "metadata": {},
   "outputs": [],
   "source": [
    "# Pair of element from array whose difference is equal to target value"
   ]
  },
  {
   "cell_type": "code",
   "execution_count": null,
   "id": "33139a97",
   "metadata": {},
   "outputs": [],
   "source": [
    "def pairs(k, arr):\n",
    "    arr = set(arr)\n",
    "    return sum(1 for i in arr if i+k in arr)\n",
    "n,k = map(int,input().split())\n",
    "arr = list(map(int,input().split()))\n",
    "print(pairs(k, arr))"
   ]
  },
  {
   "cell_type": "code",
   "execution_count": 12,
   "id": "39adb602",
   "metadata": {},
   "outputs": [
    {
     "name": "stdout",
     "output_type": "stream",
     "text": [
      "dlroW olleH\n"
     ]
    }
   ],
   "source": [
    "# reverse a string \n",
    "\n",
    "txt = \"Hello World\"[::-1]\n",
    "print(txt) "
   ]
  },
  {
   "cell_type": "code",
   "execution_count": 11,
   "id": "a8918cde",
   "metadata": {},
   "outputs": [
    {
     "name": "stdout",
     "output_type": "stream",
     "text": [
      "10 3\n",
      "20 4\n",
      "5 1\n"
     ]
    }
   ],
   "source": [
    "# Python 3 program to count frequencies\n",
    "# of array items\n",
    "def countFreq(arr, n):\n",
    "     \n",
    "    # Mark all array elements as not visited\n",
    "    visited = [False for i in range(n)]\n",
    " \n",
    "    # Traverse through array elements\n",
    "    # and count frequencies\n",
    "    for i in range(n):\n",
    "         \n",
    "        # Skip this element if already\n",
    "        # processed\n",
    "        if (visited[i] == True):\n",
    "            continue\n",
    " \n",
    "        # Count frequency\n",
    "        count = 1\n",
    "        for j in range(i + 1, n, 1):\n",
    "            if (arr[i] == arr[j]):\n",
    "                visited[j] = True\n",
    "                count += 1\n",
    "         \n",
    "        print(arr[i], count)\n",
    " \n",
    "# Driver Code\n",
    "if __name__ == '__main__':\n",
    "    arr = [10, 20, 20, 10, 10, 20, 5, 20]\n",
    "    n = len(arr)\n",
    "    countFreq(arr, n)\n",
    "     "
   ]
  },
  {
   "cell_type": "code",
   "execution_count": 13,
   "id": "9ce13b4e",
   "metadata": {},
   "outputs": [
    {
     "name": "stdout",
     "output_type": "stream",
     "text": [
      "4\n"
     ]
    }
   ],
   "source": [
    "# array list\n",
    "arr = [1, 2, 2, 2, 2, 3, 4, 7 ,8 ,8] \n",
    "\n",
    "# count element '2'\n",
    "count = arr.count(2)\n",
    "\n",
    "print(count)"
   ]
  },
  {
   "cell_type": "code",
   "execution_count": 14,
   "id": "01441aec",
   "metadata": {},
   "outputs": [
    {
     "name": "stdout",
     "output_type": "stream",
     "text": [
      "4\n"
     ]
    }
   ],
   "source": [
    "# function to count\n",
    "def countOccurrences(arr, n, x): \n",
    "    res = 0\n",
    "    for i in range(n): \n",
    "        if x == arr[i]: \n",
    "            res += 1\n",
    "    return res \n",
    "   \n",
    "# array list\n",
    "arr = [1, 2, 2, 2, 2, 3, 4, 7 ,8 ,8] \n",
    "\n",
    "n = len(arr) \n",
    "\n",
    "x = 2\n",
    "\n",
    "print (countOccurrences(arr, n, x)) "
   ]
  },
  {
   "cell_type": "code",
   "execution_count": 15,
   "id": "aab958d0",
   "metadata": {},
   "outputs": [
    {
     "name": "stdout",
     "output_type": "stream",
     "text": [
      "5\n",
      "6\n",
      "Before Swapping two Number: num1 = 5.0 and num2 = 6.0\n",
      "After Swapping two Number: num1 = 6.0 and num2 = 5.0\n"
     ]
    }
   ],
   "source": [
    "def swap_numbers(a, b):\n",
    "    temp = a\n",
    "    a = b\n",
    "    b = temp\n",
    "    \n",
    "    print(\"After Swapping two Number: num1 = {0} and num2 = {1}\".format(a, b))\n",
    " \n",
    "num1 = float(input())\n",
    "num2 = float(input())\n",
    "\n",
    "print(\"Before Swapping two Number: num1 = {0} and num2 = {1}\".format(num1, num2))\n",
    "swap_numbers(num1, num2) "
   ]
  },
  {
   "cell_type": "code",
   "execution_count": 16,
   "id": "11523787",
   "metadata": {},
   "outputs": [
    {
     "name": "stdout",
     "output_type": "stream",
     "text": [
      "6\n",
      "5\n"
     ]
    }
   ],
   "source": [
    "a = 5\n",
    "b = 6 \n",
    "a,b = b,a \n",
    "print(a) \n",
    "print(b) "
   ]
  },
  {
   "cell_type": "code",
   "execution_count": 18,
   "id": "15d1f1c7",
   "metadata": {},
   "outputs": [
    {
     "name": "stdout",
     "output_type": "stream",
     "text": [
      "Give me an array of numbers: [11, 5, 3, 51]\n",
      "The smallest number is:  3\n"
     ]
    }
   ],
   "source": [
    "Find the nth smallest number from given array python\n",
    "\n",
    "def main():\n",
    "   numbers = eval(input(\"Give me an array of numbers: \"))\n",
    "   smallest = numbers[0]\n",
    "   for i in range(0,len(numbers),1):\n",
    "      if (numbers[i] < smallest):\n",
    "         smallest = numbers[i]\n",
    "   print(\"The smallest number is: \", smallest)\n",
    "main() "
   ]
  },
  {
   "cell_type": "code",
   "execution_count": null,
   "id": "d687131d",
   "metadata": {},
   "outputs": [],
   "source": []
  }
 ],
 "metadata": {
  "kernelspec": {
   "display_name": "Python 3",
   "language": "python",
   "name": "python3"
  },
  "language_info": {
   "codemirror_mode": {
    "name": "ipython",
    "version": 3
   },
   "file_extension": ".py",
   "mimetype": "text/x-python",
   "name": "python",
   "nbconvert_exporter": "python",
   "pygments_lexer": "ipython3",
   "version": "3.8.8"
  }
 },
 "nbformat": 4,
 "nbformat_minor": 5
}
