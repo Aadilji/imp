{
 "cells": [
  {
   "cell_type": "markdown",
   "id": "4bbc3890",
   "metadata": {},
   "source": [
    "# Number Pattern Programs"
   ]
  },
  {
   "cell_type": "markdown",
   "id": "4a710b63",
   "metadata": {},
   "source": [
    "Here, Program should contain 2 logic, one for Pattern , One for Numbers..."
   ]
  },
  {
   "cell_type": "code",
   "execution_count": 1,
   "id": "ad3f065f",
   "metadata": {},
   "outputs": [
    {
     "name": "stdout",
     "output_type": "stream",
     "text": [
      "1 1 1 1 1 \n",
      "1 1 1 1 1 \n",
      "1 1 1 1 1 \n",
      "1 1 1 1 1 \n",
      "1 1 1 1 1 \n"
     ]
    }
   ],
   "source": [
    "# after ending the j-loop, we use print() to change the line\n",
    "\n",
    "n = 5\n",
    "\n",
    "for i in range(n):\n",
    "    for j in range (n):\n",
    "        print('1', end=' ')\n",
    "    print() "
   ]
  },
  {
   "cell_type": "code",
   "execution_count": 2,
   "id": "21495870",
   "metadata": {},
   "outputs": [
    {
     "name": "stdout",
     "output_type": "stream",
     "text": [
      "1 \n",
      "1 1 \n",
      "1 1 1 \n",
      "1 1 1 1 \n",
      "1 1 1 1 1 \n"
     ]
    }
   ],
   "source": [
    "n = 5\n",
    "\n",
    "for i in range(n):\n",
    "    for j in range (i + 1):\n",
    "        print('1', end=' ')\n",
    "    print() "
   ]
  },
  {
   "cell_type": "code",
   "execution_count": 3,
   "id": "cd260242",
   "metadata": {},
   "outputs": [
    {
     "name": "stdout",
     "output_type": "stream",
     "text": [
      "$ $ $ $ $ \n",
      "$ $ $ $ \n",
      "$ $ $ \n",
      "$ $ \n",
      "$ \n"
     ]
    }
   ],
   "source": [
    "n = 5\n",
    "\n",
    "for i in range(n):\n",
    "    for j in range (n-i):\n",
    "        print('$', end=' ')\n",
    "    print()  "
   ]
  },
  {
   "cell_type": "code",
   "execution_count": 4,
   "id": "f17bc7b1",
   "metadata": {},
   "outputs": [
    {
     "name": "stdout",
     "output_type": "stream",
     "text": [
      "1 \n",
      "2 2 \n",
      "3 3 3 \n",
      "4 4 4 4 \n",
      "5 5 5 5 5 \n"
     ]
    }
   ],
   "source": [
    "n = 5\n",
    "p = 1\n",
    "\n",
    "for i in range(n):\n",
    "    for j in range (i + 1):\n",
    "        print(p, end=' ')\n",
    "    p = p + 1\n",
    "    print() "
   ]
  },
  {
   "cell_type": "code",
   "execution_count": 5,
   "id": "5f2bf91b",
   "metadata": {},
   "outputs": [
    {
     "name": "stdout",
     "output_type": "stream",
     "text": [
      "5 \n",
      "4 4 \n",
      "3 3 3 \n",
      "2 2 2 2 \n",
      "1 1 1 1 1 \n"
     ]
    }
   ],
   "source": [
    "n = 5\n",
    "p = 5\n",
    "\n",
    "for i in range(n):\n",
    "    for j in range (i + 1):\n",
    "        print(p, end=' ')\n",
    "    p = p - 1\n",
    "    print() "
   ]
  },
  {
   "cell_type": "code",
   "execution_count": 6,
   "id": "cab10d5e",
   "metadata": {},
   "outputs": [
    {
     "name": "stdout",
     "output_type": "stream",
     "text": [
      "0 \n",
      "2 2 \n",
      "4 4 4 \n",
      "6 6 6 6 \n",
      "8 8 8 8 8 \n"
     ]
    }
   ],
   "source": [
    "n = 5\n",
    "p = 0\n",
    "\n",
    "for i in range(n):\n",
    "    for j in range (i + 1):\n",
    "        print(p, end=' ')\n",
    "    p = p + 2\n",
    "    print() "
   ]
  },
  {
   "cell_type": "markdown",
   "id": "64bec89e",
   "metadata": {},
   "source": [
    "#### Alternative"
   ]
  },
  {
   "cell_type": "code",
   "execution_count": 7,
   "id": "1905aa09",
   "metadata": {},
   "outputs": [
    {
     "name": "stdout",
     "output_type": "stream",
     "text": [
      "1 \n",
      "2 2 \n",
      "1 1 1 \n",
      "2 2 2 2 \n",
      "1 1 1 1 1 \n"
     ]
    }
   ],
   "source": [
    "n = 5\n",
    "p = 5\n",
    "\n",
    "for i in range(n):\n",
    "    for j in range (i + 1):\n",
    "        if(i%2 == 0):\n",
    "            print('1', end=' ')\n",
    "        else:\n",
    "            print('2', end=' ')\n",
    "    print() "
   ]
  },
  {
   "cell_type": "code",
   "execution_count": 8,
   "id": "29ab824b",
   "metadata": {},
   "outputs": [
    {
     "name": "stdout",
     "output_type": "stream",
     "text": [
      "          1 \n",
      "        2 2 2 \n",
      "      3 3 3 3 3 \n",
      "    4 4 4 4 4 4 4 \n",
      "  1 1 1 1 1 1 1 1 1 \n",
      "    2 2 2 2 2 2 2 \n",
      "      3 3 3 3 3 \n",
      "        4 4 4 \n",
      "          5 \n"
     ]
    }
   ],
   "source": [
    "n = 5\n",
    "p = 1\n",
    "\n",
    "for i in range(n - 1):                             # minus 1 row\n",
    "    for j in range (n-i):\n",
    "        print(' ', end=' ')\n",
    "    for j in range (i):\n",
    "        print(p , end=' ')\n",
    "    for j in range (i + 1):\n",
    "        print(p , end=' ')\n",
    "    p = p + 1\n",
    "    print()\n",
    "    \n",
    "\n",
    "p = 1\n",
    "\n",
    "for i in range(n):\n",
    "    for j in range (i + 1):\n",
    "        print(' ', end=' ')\n",
    "    \n",
    "    for j in range ((n-1)-i): \n",
    "        print(p, end=' ')\n",
    "        \n",
    "    for j in range (n-i):\n",
    "        print(p, end=' ') \n",
    "    p = p + 1   \n",
    "    print() "
   ]
  },
  {
   "cell_type": "code",
   "execution_count": 9,
   "id": "bf5c53cf",
   "metadata": {},
   "outputs": [
    {
     "name": "stdout",
     "output_type": "stream",
     "text": [
      "          1 \n",
      "        2 2 2 \n",
      "      3 3 3 3 3 \n",
      "    4 4 4 4 4 4 4 \n",
      "  5 5 5 5 5 5 5 5 5 \n",
      "    6 6 6 6 6 6 6 \n",
      "      7 7 7 7 7 \n",
      "        8 8 8 \n",
      "          9 \n"
     ]
    }
   ],
   "source": [
    "n = 5\n",
    "p = 1\n",
    "\n",
    "for i in range(n - 1):                             # minus 1 row\n",
    "    for j in range (n-i):\n",
    "        print(' ', end=' ')\n",
    "    for j in range (i):\n",
    "        print(p , end=' ')\n",
    "    for j in range (i + 1):\n",
    "        print(p , end=' ')\n",
    "    p = p + 1\n",
    "    print()\n",
    "    \n",
    "\n",
    "# p = 1\n",
    "\n",
    "for i in range(n):\n",
    "    for j in range (i + 1):\n",
    "        print(' ', end=' ')\n",
    "    \n",
    "    for j in range ((n-1)-i): \n",
    "        print(p, end=' ')\n",
    "        \n",
    "    for j in range (n-i):\n",
    "        print(p, end=' ') \n",
    "    p = p + 1   \n",
    "    print() "
   ]
  },
  {
   "cell_type": "code",
   "execution_count": 10,
   "id": "c9802dce",
   "metadata": {},
   "outputs": [
    {
     "name": "stdout",
     "output_type": "stream",
     "text": [
      "          1 \n",
      "        2 2 2 \n",
      "      3 3 3 3 3 \n",
      "    4 4 4 4 4 4 4 \n",
      "  5 5 5 5 5 5 5 5 5 \n",
      "    4 4 4 4 4 4 4 \n",
      "      3 3 3 3 3 \n",
      "        2 2 2 \n",
      "          1 \n"
     ]
    }
   ],
   "source": [
    "n = 5\n",
    "p = 1\n",
    "\n",
    "for i in range(n - 1):                             # minus 1 row\n",
    "    for j in range (n-i):\n",
    "        print(' ', end=' ')\n",
    "    for j in range (i):\n",
    "        print(p , end=' ')\n",
    "    for j in range (i + 1):\n",
    "        print(p , end=' ')\n",
    "    p = p + 1\n",
    "    print()\n",
    "    \n",
    "\n",
    "# p = 1\n",
    "\n",
    "for i in range(n):\n",
    "    for j in range (i + 1):\n",
    "        print(' ', end=' ')\n",
    "    \n",
    "    for j in range ((n-1)-i): \n",
    "        print(p, end=' ')\n",
    "        \n",
    "    for j in range (n-i):\n",
    "        print(p, end=' ') \n",
    "    p = p - 1   \n",
    "    print() "
   ]
  },
  {
   "cell_type": "markdown",
   "id": "6c3237aa",
   "metadata": {},
   "source": [
    "#### change in column number: "
   ]
  },
  {
   "cell_type": "code",
   "execution_count": 11,
   "id": "1fc47624",
   "metadata": {},
   "outputs": [
    {
     "name": "stdout",
     "output_type": "stream",
     "text": [
      "1 \n",
      "1 2 \n",
      "1 2 3 \n",
      "1 2 3 4 \n",
      "1 2 3 4 5 \n"
     ]
    }
   ],
   "source": [
    "n = 5\n",
    "\n",
    "for i in range(n):\n",
    "    p = 1\n",
    "    for j in range (i + 1):\n",
    "        print(p, end=' ')\n",
    "        p = p + 1\n",
    "    print() "
   ]
  },
  {
   "cell_type": "code",
   "execution_count": 12,
   "id": "a8f3c2bf",
   "metadata": {},
   "outputs": [
    {
     "name": "stdout",
     "output_type": "stream",
     "text": [
      "12345\n",
      "1234\n",
      "123\n",
      "12\n",
      "1\n"
     ]
    }
   ],
   "source": [
    "n = 5\n",
    "\n",
    "for i in range(n):\n",
    "    p = 1\n",
    "    for j in range (i + 1):\n",
    "        print('', end='')\n",
    "    for j in range(i,n):\n",
    "        print(p,end ='')\n",
    "        p = p + 1\n",
    "    print() "
   ]
  },
  {
   "cell_type": "code",
   "execution_count": 13,
   "id": "0d8a85f8",
   "metadata": {},
   "outputs": [
    {
     "name": "stdout",
     "output_type": "stream",
     "text": [
      "          1  \n",
      "        1 2 3  \n",
      "      1 2 3 4 5  \n",
      "    1 2 3 4 5 6 7  \n",
      "  1 2 3 4 5 6 7 8 9  \n"
     ]
    }
   ],
   "source": [
    "n = 5 \n",
    "for i in range(n): \n",
    "   p=1\n",
    "   for j in range(i, n): \n",
    "      print(' ', end=' ') \n",
    "   for j in range(i):\n",
    "      print(p, end=' ')\n",
    "      p+=1\n",
    "   for j in range(i+1):\n",
    "      print(p, end=' ')\n",
    "      p+=1\n",
    "   print(' ') "
   ]
  },
  {
   "cell_type": "code",
   "execution_count": 14,
   "id": "7cc6610f",
   "metadata": {},
   "outputs": [
    {
     "name": "stdout",
     "output_type": "stream",
     "text": [
      "5 \n",
      "5 4 \n",
      "5 4 3 \n",
      "5 4 3 2 \n",
      "5 4 3 2 1 \n"
     ]
    }
   ],
   "source": [
    "n = 5\n",
    "for i in range(n):\n",
    "   p=5\n",
    "   for j in range(i+1): \n",
    "      print(p, end=' ')\n",
    "      p-=1\n",
    "   print() "
   ]
  },
  {
   "cell_type": "code",
   "execution_count": 15,
   "id": "d50d2f9a",
   "metadata": {},
   "outputs": [
    {
     "name": "stdout",
     "output_type": "stream",
     "text": [
      "  5 4 3 2 1 \n",
      "    4 3 2 1 \n",
      "      3 2 1 \n",
      "        2 1 \n",
      "          1 \n"
     ]
    }
   ],
   "source": [
    "n=5\n",
    "k=5 \n",
    "for i in range (n):\n",
    "   p = k\n",
    "   for j in range (i+1):\n",
    "      print (' ', end = ' ')\n",
    "   for j in range (i,n):\n",
    "      print (p, end = ' ') \n",
    "      p-=1\n",
    "   k-=1\n",
    "   print()  "
   ]
  },
  {
   "cell_type": "code",
   "execution_count": 16,
   "id": "51672485",
   "metadata": {},
   "outputs": [
    {
     "name": "stdout",
     "output_type": "stream",
     "text": [
      "          1 \n",
      "        1 2 3 \n",
      "      1 2 3 4 5 \n",
      "    1 2 3 4 5 6 7 \n",
      "  1 2 3 4 5 6 7 8 9 \n"
     ]
    }
   ],
   "source": [
    "n = 5\n",
    "\n",
    "for i in range(n):\n",
    "  p = 1\n",
    "  for j in range (i,n):\n",
    "     print(' ', end=' ')\n",
    "  for j in range (i):\n",
    "     print(p, end = ' ')\n",
    "     p = p + 1\n",
    "  for j in range(i + 1):\n",
    "     print(p,end =' ')\n",
    "     p = p + 1\n",
    "  print() "
   ]
  },
  {
   "cell_type": "code",
   "execution_count": 17,
   "id": "01fd63e7",
   "metadata": {},
   "outputs": [
    {
     "name": "stdout",
     "output_type": "stream",
     "text": [
      "5 \n",
      "5 4 \n",
      "5 4 3 \n",
      "5 4 3 2 \n",
      "5 4 3 2 1 \n"
     ]
    }
   ],
   "source": [
    "n = 5\n",
    "for i in range(n):\n",
    "   p=5\n",
    "   for j in range(i+1): \n",
    "      print(p, end=' ')\n",
    "      p-=1\n",
    "   print() "
   ]
  },
  {
   "cell_type": "code",
   "execution_count": 18,
   "id": "d73b4703",
   "metadata": {},
   "outputs": [
    {
     "name": "stdout",
     "output_type": "stream",
     "text": [
      "  5 4 3 2 1 \n",
      "    4 3 2 1 \n",
      "      3 2 1 \n",
      "        2 1 \n",
      "          1 \n"
     ]
    }
   ],
   "source": [
    "n=5\n",
    "k=5 \n",
    "for i in range (n):\n",
    "   p = k\n",
    "   for j in range (i+1):\n",
    "      print (' ', end = ' ')\n",
    "   for j in range (i,n):\n",
    "      print (p, end = ' ') \n",
    "      p-=1\n",
    "   k-=1\n",
    "   print() "
   ]
  },
  {
   "cell_type": "code",
   "execution_count": 19,
   "id": "b931de05",
   "metadata": {},
   "outputs": [
    {
     "name": "stdout",
     "output_type": "stream",
     "text": [
      "          1 \n",
      "        1 2 1 \n",
      "      1 2 3 2 1 \n",
      "    1 2 3 4 3 2 1 \n",
      "  1 2 3 4 5 4 3 2 1 \n"
     ]
    }
   ],
   "source": [
    "n = 5 \n",
    "for i in range(n):\n",
    "  p=1\n",
    "  for j in range(i, n): \n",
    "     print(' ', end=' ') \n",
    "  for j in range(i):\n",
    "     print(p, end=' ')\n",
    "     p+=1\n",
    "  for j in range(i+1):\n",
    "     print(p, end=' ')\n",
    "     p-=1\n",
    "  print() "
   ]
  },
  {
   "cell_type": "code",
   "execution_count": 20,
   "id": "37cafc1a",
   "metadata": {},
   "outputs": [
    {
     "name": "stdout",
     "output_type": "stream",
     "text": [
      "1 \n",
      "2 3 \n",
      "4 5 6 \n",
      "7 8 9 10 \n"
     ]
    }
   ],
   "source": [
    "n = 4\n",
    "p=1\n",
    "for i in range(n):\n",
    "  for j in range(i+1): \n",
    "    print(p, end=' ')\n",
    "    p+=1\n",
    "  print() "
   ]
  },
  {
   "cell_type": "code",
   "execution_count": null,
   "id": "36d86465",
   "metadata": {},
   "outputs": [],
   "source": []
  }
 ],
 "metadata": {
  "kernelspec": {
   "display_name": "Python 3",
   "language": "python",
   "name": "python3"
  },
  "language_info": {
   "codemirror_mode": {
    "name": "ipython",
    "version": 3
   },
   "file_extension": ".py",
   "mimetype": "text/x-python",
   "name": "python",
   "nbconvert_exporter": "python",
   "pygments_lexer": "ipython3",
   "version": "3.8.8"
  }
 },
 "nbformat": 4,
 "nbformat_minor": 5
}
